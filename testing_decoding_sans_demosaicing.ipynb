{
  "nbformat": 4,
  "nbformat_minor": 0,
  "metadata": {
    "colab": {
      "name": "testing_decoding_sans_demosaicing.ipynb",
      "provenance": [],
      "collapsed_sections": []
    },
    "kernelspec": {
      "name": "python3",
      "display_name": "Python 3"
    },
    "language_info": {
      "name": "python"
    }
  },
  "cells": [
    {
      "cell_type": "code",
      "metadata": {
        "colab": {
          "base_uri": "https://localhost:8080/"
        },
        "id": "9HWec6iyoHnA",
        "outputId": "315060e6-d51f-4f17-edef-ef20f5827512"
      },
      "source": [
        "!python -m pip install 'plenopticam>=0.7.0'"
      ],
      "execution_count": 2,
      "outputs": [
        {
          "output_type": "stream",
          "text": [
            "Requirement already satisfied: plenopticam>=0.7.0 in /usr/local/lib/python3.7/dist-packages (0.8.0)\n",
            "Requirement already satisfied: Pillow in /usr/local/lib/python3.7/dist-packages (from plenopticam>=0.7.0) (7.1.2)\n",
            "Requirement already satisfied: docutils in /usr/local/lib/python3.7/dist-packages (from plenopticam>=0.7.0) (0.17.1)\n",
            "Requirement already satisfied: color-space-converter in /usr/local/lib/python3.7/dist-packages (from plenopticam>=0.7.0) (0.1.4)\n",
            "Requirement already satisfied: requests in /usr/local/lib/python3.7/dist-packages (from plenopticam>=0.7.0) (2.23.0)\n",
            "Requirement already satisfied: numpy in /usr/local/lib/python3.7/dist-packages (from plenopticam>=0.7.0) (1.19.5)\n",
            "Requirement already satisfied: imageio in /usr/local/lib/python3.7/dist-packages (from plenopticam>=0.7.0) (2.4.1)\n",
            "Requirement already satisfied: colour in /usr/local/lib/python3.7/dist-packages (from plenopticam>=0.7.0) (0.1.5)\n",
            "Requirement already satisfied: color-matcher in /usr/local/lib/python3.7/dist-packages (from plenopticam>=0.7.0) (0.4.1)\n",
            "Requirement already satisfied: depthy in /usr/local/lib/python3.7/dist-packages (from plenopticam>=0.7.0) (0.4.0)\n",
            "Requirement already satisfied: scipy==1.4.1 in /usr/local/lib/python3.7/dist-packages (from plenopticam>=0.7.0) (1.4.1)\n",
            "Requirement already satisfied: colour-demosaicing in /usr/local/lib/python3.7/dist-packages (from plenopticam>=0.7.0) (0.1.6)\n",
            "Requirement already satisfied: ddt in /usr/local/lib/python3.7/dist-packages (from color-space-converter->plenopticam>=0.7.0) (1.4.2)\n",
            "Requirement already satisfied: urllib3!=1.25.0,!=1.25.1,<1.26,>=1.21.1 in /usr/local/lib/python3.7/dist-packages (from requests->plenopticam>=0.7.0) (1.24.3)\n",
            "Requirement already satisfied: chardet<4,>=3.0.2 in /usr/local/lib/python3.7/dist-packages (from requests->plenopticam>=0.7.0) (3.0.4)\n",
            "Requirement already satisfied: idna<3,>=2.5 in /usr/local/lib/python3.7/dist-packages (from requests->plenopticam>=0.7.0) (2.10)\n",
            "Requirement already satisfied: certifi>=2017.4.17 in /usr/local/lib/python3.7/dist-packages (from requests->plenopticam>=0.7.0) (2020.12.5)\n",
            "Requirement already satisfied: matplotlib in /usr/local/lib/python3.7/dist-packages (from depthy->plenopticam>=0.7.0) (3.2.2)\n",
            "Requirement already satisfied: colour-science<0.4.0,>=0.3.16 in /usr/local/lib/python3.7/dist-packages (from colour-demosaicing->plenopticam>=0.7.0) (0.3.16)\n",
            "Requirement already satisfied: cycler>=0.10 in /usr/local/lib/python3.7/dist-packages (from matplotlib->depthy->plenopticam>=0.7.0) (0.10.0)\n",
            "Requirement already satisfied: python-dateutil>=2.1 in /usr/local/lib/python3.7/dist-packages (from matplotlib->depthy->plenopticam>=0.7.0) (2.8.1)\n",
            "Requirement already satisfied: kiwisolver>=1.0.1 in /usr/local/lib/python3.7/dist-packages (from matplotlib->depthy->plenopticam>=0.7.0) (1.3.1)\n",
            "Requirement already satisfied: pyparsing!=2.0.4,!=2.1.2,!=2.1.6,>=2.0.1 in /usr/local/lib/python3.7/dist-packages (from matplotlib->depthy->plenopticam>=0.7.0) (2.4.7)\n",
            "Requirement already satisfied: six in /usr/local/lib/python3.7/dist-packages (from colour-science<0.4.0,>=0.3.16->colour-demosaicing->plenopticam>=0.7.0) (1.15.0)\n"
          ],
          "name": "stdout"
        }
      ]
    },
    {
      "cell_type": "code",
      "metadata": {
        "colab": {
          "base_uri": "https://localhost:8080/"
        },
        "id": "t5hhCYqropZ6",
        "outputId": "8223ac67-28db-4e9e-8107-f42154075763"
      },
      "source": [
        "%cd /content/drive/MyDrive/EE5176/\n"
      ],
      "execution_count": 3,
      "outputs": [
        {
          "output_type": "stream",
          "text": [
            "/content/drive/MyDrive/EE5176\n"
          ],
          "name": "stdout"
        }
      ]
    },
    {
      "cell_type": "code",
      "metadata": {
        "id": "Gs-vX5WYDxH-"
      },
      "source": [
        "import plenopticam as pcam\n",
        "import numpy as np\n",
        "import Lftoolbox\n",
        "\n",
        "\n",
        "lfp_path = '/content/drive/MyDrive/EE5176/IMG_1108.lfr'\n",
        "calibration_path = '/content/drive/MyDrive/EE5176/caldata-B5152300590.tar'\n",
        "#function call. desired output = decoded_views_all\n",
        "decoded_views_all = Lftoolbox.lf_decode_sans_save(lfp_path, calibration_path)\n",
        "#visualization of results\n",
        "plt.imshow(decoded_views_all,cmap='gray')\n",
        "plt.show()"
      ],
      "execution_count": null,
      "outputs": []
    }
  ]
}